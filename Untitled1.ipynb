{
  "nbformat": 4,
  "nbformat_minor": 0,
  "metadata": {
    "colab": {
      "provenance": []
    },
    "kernelspec": {
      "name": "python3",
      "display_name": "Python 3"
    },
    "language_info": {
      "name": "python"
    }
  },
  "cells": [
    {
      "cell_type": "code",
      "execution_count": null,
      "metadata": {
        "id": "C9PTuf6Eel11"
      },
      "outputs": [],
      "source": []
    },
    {
      "cell_type": "code",
      "source": [
        "nama = input(\"Nama Anda: \")\n",
        "nim = input(\"NIM Anda: \")\n",
        "alamat = input(\"Alamat Anda: \")\n",
        "ttl = input(\"Tempat Tanggal Lahir: \")\n",
        "hobby = input(\"Hobby Anda: \")\n",
        "\n",
        "print(nama)\n",
        "print(nim)\n",
        "print(alamat)\n",
        "print(ttl)\n",
        "print(hobby)\n"
      ],
      "metadata": {
        "colab": {
          "base_uri": "https://localhost:8080/"
        },
        "id": "Fsd9urc_hGbd",
        "outputId": "e76497c4-5ae7-436f-abfb-b5eeeea48d17"
      },
      "execution_count": null,
      "outputs": [
        {
          "output_type": "stream",
          "name": "stdout",
          "text": [
            "Nama Anda: Rizal Gusti Wirawan\n",
            "NIM Anda: 064102400031\n",
            "Alamat Anda: Tangerang,cisoka,perum pesona wibawa praja\n",
            "Tempat Tanggal Lahir: Tangerang,19 Agustus,2024\n",
            "Hobby Anda: Futsal\n",
            "Rizal Gusti Wirawan\n",
            "064102400031\n",
            "Tangerang,cisoka,perum pesona wibawa praja\n",
            "Tangerang,19 Agustus,2024\n",
            "Futsal\n"
          ]
        }
      ]
    }
  ]
}